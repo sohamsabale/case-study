{
 "cells": [
  {
   "cell_type": "code",
   "execution_count": 3,
   "metadata": {},
   "outputs": [
    {
     "name": "stderr",
     "output_type": "stream",
     "text": [
      "C:\\Users\\sabal\\AppData\\Local\\Temp\\ipykernel_10904\\561792766.py:6: DtypeWarning: Columns (0) have mixed types. Specify dtype option on import or set low_memory=False.\n",
      "  usage_data = pd.read_csv(\"data/usage_data.csv\")\n"
     ]
    },
    {
     "data": {
      "text/plain": [
       "(         customerid product_name signup_date channel first_activation_date  \\\n",
       " 0  9059978095643230   QuickBooks     6/21/21     PPC               6/21/21   \n",
       " 1  9059978095913820    Mailchimp     6/25/21     PPC               6/26/21   \n",
       " 2  9130350795302030          NaN      6/1/21     PPC                   NaN   \n",
       " 3  9130350795888320          NaN      6/1/21  Direct                   NaN   \n",
       " 4  9130350796379850    Mailchimp      6/1/21  Direct                7/1/21   \n",
       " \n",
       "   first_purchase_date cancel_date Unnamed: 7  \n",
       " 0                 NaN         NaN        NaN  \n",
       " 1                 NaN         NaN        NaN  \n",
       " 2                 NaN         NaN        NaN  \n",
       " 3                 NaN         NaN        NaN  \n",
       " 4              7/9/21     8/10/21        NaN  ,\n",
       "   customerid product_name event_date  action_type_id  usage_count\n",
       " 0  116490232     TurboTax     9/3/21               5            1\n",
       " 1  116490232     TurboTax    9/14/21               7            4\n",
       " 2  116490232     TurboTax    9/16/21               5            1\n",
       " 3  150638461         Mint    6/30/21               2            1\n",
       " 4  150638461         Mint    6/30/21               5            1)"
      ]
     },
     "execution_count": 3,
     "metadata": {},
     "output_type": "execute_result"
    }
   ],
   "source": [
    "# Re-import pandas for the current environment\n",
    "import pandas as pd\n",
    "\n",
    "# Reload the data files\n",
    "customer_data = pd.read_csv(\"data/customer_data.csv\")\n",
    "usage_data = pd.read_csv(\"data/usage_data.csv\")\n",
    "\n",
    "# Display the first few rows of both datasets to understand their structure\n",
    "customer_data.head(), usage_data.head()\n"
   ]
  },
  {
   "cell_type": "code",
   "execution_count": 6,
   "metadata": {},
   "outputs": [
    {
     "data": {
      "text/html": [
       "<div>\n",
       "<style scoped>\n",
       "    .dataframe tbody tr th:only-of-type {\n",
       "        vertical-align: middle;\n",
       "    }\n",
       "\n",
       "    .dataframe tbody tr th {\n",
       "        vertical-align: top;\n",
       "    }\n",
       "\n",
       "    .dataframe thead th {\n",
       "        text-align: right;\n",
       "    }\n",
       "</style>\n",
       "<table border=\"1\" class=\"dataframe\">\n",
       "  <thead>\n",
       "    <tr style=\"text-align: right;\">\n",
       "      <th></th>\n",
       "      <th>Active_Users</th>\n",
       "      <th>Churned_Users</th>\n",
       "    </tr>\n",
       "    <tr>\n",
       "      <th>product_name</th>\n",
       "      <th></th>\n",
       "      <th></th>\n",
       "    </tr>\n",
       "  </thead>\n",
       "  <tbody>\n",
       "    <tr>\n",
       "      <th>Mailchimp</th>\n",
       "      <td>2059</td>\n",
       "      <td>675</td>\n",
       "    </tr>\n",
       "    <tr>\n",
       "      <th>Mint</th>\n",
       "      <td>2043</td>\n",
       "      <td>612</td>\n",
       "    </tr>\n",
       "    <tr>\n",
       "      <th>QuickBooks</th>\n",
       "      <td>2145</td>\n",
       "      <td>682</td>\n",
       "    </tr>\n",
       "    <tr>\n",
       "      <th>TurboTax</th>\n",
       "      <td>1994</td>\n",
       "      <td>616</td>\n",
       "    </tr>\n",
       "  </tbody>\n",
       "</table>\n",
       "</div>"
      ],
      "text/plain": [
       "              Active_Users  Churned_Users\n",
       "product_name                             \n",
       "Mailchimp             2059            675\n",
       "Mint                  2043            612\n",
       "QuickBooks            2145            682\n",
       "TurboTax              1994            616"
      ]
     },
     "execution_count": 6,
     "metadata": {},
     "output_type": "execute_result"
    }
   ],
   "source": [
    "# Active users (First_Activation_Date is not null) grouped by Product_Name\n",
    "active_users = customer_data[~customer_data['first_activation_date'].isna()]\n",
    "active_users_by_product = active_users.groupby('product_name').size()\n",
    "\n",
    "# Churned users (Cancel_Date is not null) grouped by Product_Name\n",
    "churned_users = customer_data[~customer_data['cancel_date'].isna()]\n",
    "churned_users_by_product = churned_users.groupby('product_name').size()\n",
    "\n",
    "# Combine results into a summary dataframe\n",
    "kpi_summary = pd.DataFrame({\n",
    "    \"Active_Users\": active_users_by_product,\n",
    "    \"Churned_Users\": churned_users_by_product\n",
    "}).fillna(0).astype(int)\n",
    "kpi_summary"
   ]
  },
  {
   "cell_type": "code",
   "execution_count": 12,
   "metadata": {},
   "outputs": [
    {
     "name": "stdout",
     "output_type": "stream",
     "text": [
      "Number of customers signed up without a first activation date: 0\n"
     ]
    },
    {
     "data": {
      "text/plain": [
       "(0, 8)"
      ]
     },
     "execution_count": 12,
     "metadata": {},
     "output_type": "execute_result"
    }
   ],
   "source": [
    "# Filter customers who have a signup date but no first activation date\n",
    "customers_without_activation = customer_data[\n",
    "    customer_data['signup_date'].notnull() & customer_data['first_activation_date'].isnull() & customer_data['product_name'].notnull()\n",
    "]\n",
    "\n",
    "# Display the count of such customers\n",
    "num_customers_without_activation = customers_without_activation.shape[0]\n",
    "\n",
    "print(f\"Number of customers signed up without a first activation date: {num_customers_without_activation}\")\n",
    "\n",
    "# Optionally, display the subset of the data\n",
    "customers_without_activation.shape\n"
   ]
  },
  {
   "cell_type": "code",
   "execution_count": 14,
   "metadata": {},
   "outputs": [
    {
     "data": {
      "text/html": [
       "<div>\n",
       "<style scoped>\n",
       "    .dataframe tbody tr th:only-of-type {\n",
       "        vertical-align: middle;\n",
       "    }\n",
       "\n",
       "    .dataframe tbody tr th {\n",
       "        vertical-align: top;\n",
       "    }\n",
       "\n",
       "    .dataframe thead th {\n",
       "        text-align: right;\n",
       "    }\n",
       "</style>\n",
       "<table border=\"1\" class=\"dataframe\">\n",
       "  <thead>\n",
       "    <tr style=\"text-align: right;\">\n",
       "      <th></th>\n",
       "      <th>Product</th>\n",
       "      <th>Active Users</th>\n",
       "    </tr>\n",
       "  </thead>\n",
       "  <tbody>\n",
       "    <tr>\n",
       "      <th>0</th>\n",
       "      <td>Mailchimp</td>\n",
       "      <td>1337</td>\n",
       "    </tr>\n",
       "    <tr>\n",
       "      <th>1</th>\n",
       "      <td>Mint</td>\n",
       "      <td>1392</td>\n",
       "    </tr>\n",
       "    <tr>\n",
       "      <th>2</th>\n",
       "      <td>QuickBooks</td>\n",
       "      <td>1413</td>\n",
       "    </tr>\n",
       "    <tr>\n",
       "      <th>3</th>\n",
       "      <td>TurboTax</td>\n",
       "      <td>1335</td>\n",
       "    </tr>\n",
       "  </tbody>\n",
       "</table>\n",
       "</div>"
      ],
      "text/plain": [
       "      Product  Active Users\n",
       "0   Mailchimp          1337\n",
       "1        Mint          1392\n",
       "2  QuickBooks          1413\n",
       "3    TurboTax          1335"
      ]
     },
     "execution_count": 14,
     "metadata": {},
     "output_type": "execute_result"
    }
   ],
   "source": [
    "active_users_by_product = customer_data[customer_data['cancel_date'].isnull()]\\\n",
    "    .groupby('product_name')['customerid'].nunique()\\\n",
    "    .reset_index()\n",
    "\n",
    "active_users_by_product.columns = ['Product', 'Active Users']\n",
    "\n",
    "active_users_by_product"
   ]
  },
  {
   "cell_type": "code",
   "execution_count": 19,
   "metadata": {},
   "outputs": [
    {
     "data": {
      "text/plain": [
       "Timestamp('2021-06-01 00:00:00')"
      ]
     },
     "execution_count": 19,
     "metadata": {},
     "output_type": "execute_result"
    }
   ],
   "source": [
    "usage_data['event_date'].unique()\n",
    "usage_data['event_date']= pd.to_datetime(usage_data['event_date'], errors='coerce')\n",
    "usage_data['event_date'].min()"
   ]
  },
  {
   "cell_type": "code",
   "execution_count": 20,
   "metadata": {},
   "outputs": [
    {
     "data": {
      "text/plain": [
       "Timestamp('2021-09-28 00:00:00')"
      ]
     },
     "execution_count": 20,
     "metadata": {},
     "output_type": "execute_result"
    }
   ],
   "source": [
    "usage_data['event_date'].max()"
   ]
  },
  {
   "cell_type": "code",
   "execution_count": null,
   "metadata": {},
   "outputs": [
    {
     "data": {
      "text/plain": [
       "Timestamp('2021-06-30 00:00:00')"
      ]
     },
     "execution_count": 23,
     "metadata": {},
     "output_type": "execute_result"
    }
   ],
   "source": [
    "customer_data['signup_date']= pd.to_datetime(customer_data['signup_date'],errors='coerce')\n",
    "customer_data['signup_date'].max()\n"
   ]
  },
  {
   "cell_type": "code",
   "execution_count": 32,
   "metadata": {},
   "outputs": [
    {
     "data": {
      "text/plain": [
       "(np.int64(2059), np.int64(1384))"
      ]
     },
     "execution_count": 32,
     "metadata": {},
     "output_type": "execute_result"
    }
   ],
   "source": [
    "customer_data[\"first_activation_date\"] = pd.to_datetime(customer_data[\"first_activation_date\"], errors='coerce')\n",
    "customer_data[\"cancel_date\"] = pd.to_datetime(customer_data[\"cancel_date\"], errors='coerce')\n",
    "\n",
    "# Recalculate start and end dates\n",
    "start_date = min(\n",
    "    customer_data[\"first_activation_date\"].min(),\n",
    "    customer_data[\"cancel_date\"].min()\n",
    ")\n",
    "end_date = max(\n",
    "    customer_data[\"first_activation_date\"].max(),\n",
    "    customer_data[\"cancel_date\"].max()\n",
    ")\n",
    "\n",
    "# Generate a full date range\n",
    "full_date_range = pd.date_range(start=start_date, end=end_date, freq=\"D\")\n",
    "\n",
    "# Filter data for Mailchimp\n",
    "mailchimp_data = customer_data[customer_data[\"product_name\"] == \"Mailchimp\"]\n",
    "\n",
    "# Recalculate cumulative activated customers for Mailchimp\n",
    "cumulative_activated_customers_mailchimp = (\n",
    "    mailchimp_data.groupby(\"first_activation_date\").size()\n",
    "    .reindex(full_date_range, fill_value=0)\n",
    "    .cumsum()\n",
    ")\n",
    "\n",
    "# Recalculate cumulative cancelled customers for Mailchimp\n",
    "cumulative_cancelled_customers_mailchimp = (\n",
    "    mailchimp_data.groupby(\"cancel_date\").size()\n",
    "    .reindex(full_date_range, fill_value=0)\n",
    "    .cumsum()\n",
    ")\n",
    "\n",
    "# Recalculate active customers for Mailchimp\n",
    "active_customers_daily_mailchimp = cumulative_activated_customers_mailchimp - cumulative_cancelled_customers_mailchimp\n",
    "\n",
    "# Validate final values\n",
    "lifetime_activated_mailchimp = cumulative_activated_customers_mailchimp.iloc[-1]\n",
    "current_active_mailchimp = active_customers_daily_mailchimp.iloc[-1]\n",
    "\n",
    "lifetime_activated_mailchimp, current_active_mailchimp\n"
   ]
  },
  {
   "cell_type": "code",
   "execution_count": 31,
   "metadata": {},
   "outputs": [
    {
     "data": {
      "text/plain": [
       "np.int64(1384)"
      ]
     },
     "execution_count": 31,
     "metadata": {},
     "output_type": "execute_result"
    }
   ],
   "source": [
    "current_active_mailchimp"
   ]
  },
  {
   "cell_type": "code",
   "execution_count": null,
   "metadata": {},
   "outputs": [],
   "source": []
  }
 ],
 "metadata": {
  "kernelspec": {
   "display_name": "env",
   "language": "python",
   "name": "python3"
  },
  "language_info": {
   "codemirror_mode": {
    "name": "ipython",
    "version": 3
   },
   "file_extension": ".py",
   "mimetype": "text/x-python",
   "name": "python",
   "nbconvert_exporter": "python",
   "pygments_lexer": "ipython3",
   "version": "3.12.4"
  }
 },
 "nbformat": 4,
 "nbformat_minor": 2
}
